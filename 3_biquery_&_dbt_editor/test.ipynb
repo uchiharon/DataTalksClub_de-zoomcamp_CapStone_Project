{
 "cells": [
  {
   "cell_type": "code",
   "execution_count": 2,
   "metadata": {},
   "outputs": [],
   "source": [
    "def format_list(name):\n",
    "    \"\"\" To replace new line \\n with _ and the make the list lower cases\"\"\"\n",
    "    result = [i.replace('\\n','_').replace(' ','_').lower() for i in name]\n",
    "    return result"
   ]
  },
  {
   "cell_type": "code",
   "execution_count": 1,
   "metadata": {},
   "outputs": [],
   "source": [
    "name = ['Quantity Of Fuel Consumed\\nJanuary',\n",
    " 'Quantity Of Fuel Consumed\\nFebruary',\n",
    " 'Quantity Of Fuel Consumed\\nMarch',\n",
    " 'Quantity Of Fuel Consumed\\nApril',\n",
    " 'Quantity Of Fuel Consumed\\nMay',\n",
    " 'Quantity Of Fuel Consumed\\nJune',\n",
    " 'Quantity Of Fuel Consumed\\nJuly',\n",
    " 'Quantity Of Fuel Consumed\\nAugust',\n",
    " 'Quantity Of Fuel Consumed\\nSeptember',\n",
    " 'Quantity Of Fuel Consumed\\nOctober',\n",
    " 'Quantity Of Fuel Consumed\\nNovember',\n",
    " 'Quantity Of Fuel Consumed\\nDecember']"
   ]
  },
  {
   "cell_type": "code",
   "execution_count": 4,
   "metadata": {},
   "outputs": [],
   "source": [
    "name = [i.replace('\\n','_').replace(' ','_').lower() for i in name]"
   ]
  },
  {
   "cell_type": "code",
   "execution_count": 5,
   "metadata": {},
   "outputs": [
    {
     "data": {
      "text/plain": [
       "['quantity_of_fuel_consumed_january',\n",
       " 'quantity_of_fuel_consumed_february',\n",
       " 'quantity_of_fuel_consumed_march',\n",
       " 'quantity_of_fuel_consumed_april',\n",
       " 'quantity_of_fuel_consumed_may',\n",
       " 'quantity_of_fuel_consumed_june',\n",
       " 'quantity_of_fuel_consumed_july',\n",
       " 'quantity_of_fuel_consumed_august',\n",
       " 'quantity_of_fuel_consumed_september',\n",
       " 'quantity_of_fuel_consumed_october',\n",
       " 'quantity_of_fuel_consumed_november',\n",
       " 'quantity_of_fuel_consumed_december']"
      ]
     },
     "execution_count": 5,
     "metadata": {},
     "output_type": "execute_result"
    }
   ],
   "source": [
    "name"
   ]
  },
  {
   "cell_type": "code",
   "execution_count": 7,
   "metadata": {},
   "outputs": [],
   "source": [
    "constant_col = ['Plant Id',\n",
    " 'Combined Heat And\\n Power Plant',\n",
    " 'Plant Name',\n",
    " 'Operator Name',\n",
    " 'Operator Id',\n",
    " 'Plant State',\n",
    " 'Census Region',\n",
    " 'NERC Region',\n",
    " 'NAICS Code',\n",
    " 'Sector Number',\n",
    " 'Sector Name',\n",
    " 'Boiler Id',\n",
    " 'Reported\\nPrime Mover',\n",
    " 'Reported\\nFuel Type Code',\n",
    " 'Physical Unit Label', \n",
    " 'YEAR']"
   ]
  },
  {
   "cell_type": "code",
   "execution_count": 8,
   "metadata": {},
   "outputs": [],
   "source": [
    "constant_col = format_list(constant_col)"
   ]
  },
  {
   "cell_type": "code",
   "execution_count": 9,
   "metadata": {},
   "outputs": [
    {
     "data": {
      "text/plain": [
       "['plant_id',\n",
       " 'combined_heat_and__power_plant',\n",
       " 'plant_name',\n",
       " 'operator_name',\n",
       " 'operator_id',\n",
       " 'plant_state',\n",
       " 'census_region',\n",
       " 'nerc_region',\n",
       " 'naics_code',\n",
       " 'sector_number',\n",
       " 'sector_name',\n",
       " 'boiler_id',\n",
       " 'reported_prime_mover',\n",
       " 'reported_fuel_type_code',\n",
       " 'physical_unit_label',\n",
       " 'year']"
      ]
     },
     "execution_count": 9,
     "metadata": {},
     "output_type": "execute_result"
    }
   ],
   "source": [
    "constant_col"
   ]
  },
  {
   "cell_type": "code",
   "execution_count": 10,
   "metadata": {},
   "outputs": [],
   "source": [
    "mmbtu  = ['MMbtu Per Unit\\nJanuary',\n",
    " 'MMbtu Per Unit\\nFebruary',\n",
    " 'MMbtu Per Unit\\nMarch',\n",
    " 'MMbtu Per Unit\\nApril',\n",
    " 'MMbtu Per Unit\\nMay',\n",
    " 'MMbtu Per Unit\\nJune',\n",
    " 'MMbtu Per Unit\\nJuly',\n",
    " 'MMbtu Per Unit\\nAugust',\n",
    " 'MMbtu Per Unit\\nSeptember',\n",
    " 'MMbtu Per Unit\\nOctober',\n",
    " 'MMbtu Per Unit\\nNovember',\n",
    " 'MMbtu Per Unit\\nDecember',]"
   ]
  },
  {
   "cell_type": "code",
   "execution_count": 11,
   "metadata": {},
   "outputs": [],
   "source": [
    "mmbtu = format_list(mmbtu)"
   ]
  },
  {
   "cell_type": "code",
   "execution_count": 12,
   "metadata": {},
   "outputs": [
    {
     "data": {
      "text/plain": [
       "['mmbtu_per_unit_january',\n",
       " 'mmbtu_per_unit_february',\n",
       " 'mmbtu_per_unit_march',\n",
       " 'mmbtu_per_unit_april',\n",
       " 'mmbtu_per_unit_may',\n",
       " 'mmbtu_per_unit_june',\n",
       " 'mmbtu_per_unit_july',\n",
       " 'mmbtu_per_unit_august',\n",
       " 'mmbtu_per_unit_september',\n",
       " 'mmbtu_per_unit_october',\n",
       " 'mmbtu_per_unit_november',\n",
       " 'mmbtu_per_unit_december']"
      ]
     },
     "execution_count": 12,
     "metadata": {},
     "output_type": "execute_result"
    }
   ],
   "source": [
    "mmbtu"
   ]
  },
  {
   "cell_type": "code",
   "execution_count": 13,
   "metadata": {},
   "outputs": [],
   "source": [
    "sulpur = ['Sulfur Content\\nJanuary',\n",
    " 'Sulfur Content\\nFebruary',\n",
    " 'Sulfur Content\\nMarch',\n",
    " 'Sulfur Content\\nApril',\n",
    " 'Sulfur Content\\nMay',\n",
    " 'Sulfur Content\\nJune',\n",
    " 'Sulfur Content\\nJuly',\n",
    " 'Sulfur Content\\nAugust',\n",
    " 'Sulfur Content\\nSeptember',\n",
    " 'Sulfur Content\\nOctober',\n",
    " 'Sulfur Content\\nNovember',\n",
    " 'Sulfur Content\\nDecember',]"
   ]
  },
  {
   "cell_type": "code",
   "execution_count": 14,
   "metadata": {},
   "outputs": [],
   "source": [
    "sulpur = format_list(sulpur)"
   ]
  },
  {
   "cell_type": "code",
   "execution_count": 15,
   "metadata": {},
   "outputs": [
    {
     "data": {
      "text/plain": [
       "['sulfur_content_january',\n",
       " 'sulfur_content_february',\n",
       " 'sulfur_content_march',\n",
       " 'sulfur_content_april',\n",
       " 'sulfur_content_may',\n",
       " 'sulfur_content_june',\n",
       " 'sulfur_content_july',\n",
       " 'sulfur_content_august',\n",
       " 'sulfur_content_september',\n",
       " 'sulfur_content_october',\n",
       " 'sulfur_content_november',\n",
       " 'sulfur_content_december']"
      ]
     },
     "execution_count": 15,
     "metadata": {},
     "output_type": "execute_result"
    }
   ],
   "source": [
    "sulpur"
   ]
  },
  {
   "cell_type": "code",
   "execution_count": 16,
   "metadata": {},
   "outputs": [],
   "source": [
    "ash = [ 'Ash Content\\nJanuary',\n",
    " 'Ash Content\\nFebruary',\n",
    " 'Ash Content\\nMarch',\n",
    " 'Ash Content\\nApril',\n",
    " 'Ash Content\\nMay',\n",
    " 'Ash Content\\nJune',\n",
    " 'Ash Content\\nJuly',\n",
    " 'Ash Content\\nAugust',\n",
    " 'Ash Content\\nSeptember',\n",
    " 'Ash Content\\nOctober',\n",
    " 'Ash Content\\nNovember',\n",
    " 'Ash Content\\nDecember',]"
   ]
  },
  {
   "cell_type": "code",
   "execution_count": 17,
   "metadata": {},
   "outputs": [],
   "source": [
    "ash = format_list(ash)"
   ]
  },
  {
   "cell_type": "code",
   "execution_count": 18,
   "metadata": {},
   "outputs": [
    {
     "data": {
      "text/plain": [
       "['ash_content_january',\n",
       " 'ash_content_february',\n",
       " 'ash_content_march',\n",
       " 'ash_content_april',\n",
       " 'ash_content_may',\n",
       " 'ash_content_june',\n",
       " 'ash_content_july',\n",
       " 'ash_content_august',\n",
       " 'ash_content_september',\n",
       " 'ash_content_october',\n",
       " 'ash_content_november',\n",
       " 'ash_content_december']"
      ]
     },
     "execution_count": 18,
     "metadata": {},
     "output_type": "execute_result"
    }
   ],
   "source": [
    "ash"
   ]
  },
  {
   "cell_type": "code",
   "execution_count": 1,
   "metadata": {},
   "outputs": [],
   "source": [
    "coal_list = [plant_id,\t\t\t\n",
    "combined_heat_and_power_plant,\t\t\t\n",
    "plant_name,\t\t\t\n",
    "operator_name,\t\t\t\n",
    "operator_id,\t\t\t\n",
    "plant_state,\t\t\t\n",
    "census_region,\t\t\t\n",
    "nerc_region,\t\t\t\n",
    "naics_code,\t\t\t\n",
    "eia_sector_number,\t\t\t\n",
    "sector_name,\t\t\t\n",
    "reported_fuel_type_code,\t\t\t\n",
    "aer_fuel_type_code,\t\t\t\n",
    "physical_unit_label,\t\t\t\n",
    "quantity_january,\t\t\t\n",
    "quantity_february,\t\t\t\n",
    "quantity_march,\t\t\t\n",
    "quantity_april,\t\t\t\n",
    "quantity_may,\t\t\t\n",
    "quantity_june,\t\t\t\n",
    "quantity_july,\t\t\t\n",
    "quantity_august,\t\t\t\n",
    "quantity_september,\t\t\t\n",
    "quantity_october,\t\t\t\n",
    "quantity_november,\t\t\t\n",
    "quantity_december,\t\t\t\n",
    "year\t]\t\t\n"
   ]
  },
  {
   "cell_type": "code",
   "execution_count": 3,
   "metadata": {},
   "outputs": [],
   "source": [
    "coal_list = format_list(coal_list)"
   ]
  },
  {
   "cell_type": "code",
   "execution_count": 4,
   "metadata": {},
   "outputs": [
    {
     "data": {
      "text/plain": [
       "['plant_id',\n",
       " 'combined_heat_and_power_plant',\n",
       " 'plant_name',\n",
       " 'operator_name',\n",
       " 'operator_id',\n",
       " 'plant_state',\n",
       " 'census_region',\n",
       " 'nerc_region',\n",
       " 'naics_code',\n",
       " 'eia_sector_number',\n",
       " 'sector_name',\n",
       " 'reported_fuel_type_code',\n",
       " 'aer_fuel_type_code',\n",
       " 'physical_unit_label',\n",
       " 'quantity_january',\n",
       " 'quantity_february',\n",
       " 'quantity_march',\n",
       " 'quantity_april',\n",
       " 'quantity_may',\n",
       " 'quantity_june',\n",
       " 'quantity_july',\n",
       " 'quantity_august',\n",
       " 'quantity_september',\n",
       " 'quantity_october',\n",
       " 'quantity_november',\n",
       " 'quantity_december',\n",
       " 'year']"
      ]
     },
     "execution_count": 4,
     "metadata": {},
     "output_type": "execute_result"
    }
   ],
   "source": [
    "coal_list"
   ]
  },
  {
   "cell_type": "code",
   "execution_count": 3,
   "metadata": {},
   "outputs": [],
   "source": [
    "def AFA():\n",
    "    i = 2\n",
    "    print(AFA)"
   ]
  },
  {
   "cell_type": "code",
   "execution_count": 4,
   "metadata": {},
   "outputs": [
    {
     "data": {
      "text/plain": [
       "<function __main__.AFA()>"
      ]
     },
     "execution_count": 4,
     "metadata": {},
     "output_type": "execute_result"
    }
   ],
   "source": [
    "AFA"
   ]
  },
  {
   "cell_type": "code",
   "execution_count": 8,
   "metadata": {},
   "outputs": [
    {
     "data": {
      "text/plain": [
       "[7, 14, 21, 28, 35]"
      ]
     },
     "execution_count": 8,
     "metadata": {},
     "output_type": "execute_result"
    }
   ],
   "source": [
    "def Tuple(tuple,t):\n",
    "    val=0\n",
    "    for tup in tuple:\n",
    "        if (tup == t):\n",
    "            val +=1\n",
    "        print(Tuple)\n",
    "tuple = (1,1,2,2,5)\n",
    "Tuple_1 = [1,2,3,4,5]\n",
    "Tuple = set(Tuple_1)\n",
    "list(map(lambda val:val*7, Tuple))"
   ]
  },
  {
   "cell_type": "code",
   "execution_count": 7,
   "metadata": {},
   "outputs": [
    {
     "data": {
      "text/plain": [
       "{1, 2, 3, 4, 5}"
      ]
     },
     "execution_count": 7,
     "metadata": {},
     "output_type": "execute_result"
    }
   ],
   "source": [
    "Tuple"
   ]
  },
  {
   "cell_type": "code",
   "execution_count": 9,
   "metadata": {},
   "outputs": [
    {
     "data": {
      "text/plain": [
       "11"
      ]
     },
     "execution_count": 9,
     "metadata": {},
     "output_type": "execute_result"
    }
   ],
   "source": [
    "5 + 2 * 3\n"
   ]
  },
  {
   "cell_type": "code",
   "execution_count": null,
   "metadata": {},
   "outputs": [],
   "source": [
    "netgen_january,\t\t\t\n",
    "netgen_february,\t\t\t\n",
    "netgen_march,\t\t\t\n",
    "netgen_april,\t\t\t\n",
    "netgen_may,\t\t\t\n",
    "netgen_june,\t\t\t\n",
    "netgen_july,\t\t\t\n",
    "netgen_august,\t\t\t\n",
    "netgen_september,\t\t\t\n",
    "netgen_october,\t\t\t\n",
    "netgen_november,\t\t\t\n",
    "netgen_december"
   ]
  },
  {
   "cell_type": "code",
   "execution_count": 1,
   "metadata": {},
   "outputs": [
    {
     "data": {
      "text/plain": [
       "2"
      ]
     },
     "execution_count": 1,
     "metadata": {},
     "output_type": "execute_result"
    }
   ],
   "source": [
    " \"hello world\".find(\"l\")"
   ]
  },
  {
   "cell_type": "code",
   "execution_count": 1,
   "metadata": {},
   "outputs": [],
   "source": [
    "import prefect"
   ]
  },
  {
   "cell_type": "code",
   "execution_count": null,
   "metadata": {},
   "outputs": [],
   "source": [
    "prefect."
   ]
  }
 ],
 "metadata": {
  "kernelspec": {
   "display_name": "Python 3",
   "language": "python",
   "name": "python3"
  },
  "language_info": {
   "codemirror_mode": {
    "name": "ipython",
    "version": 3
   },
   "file_extension": ".py",
   "mimetype": "text/x-python",
   "name": "python",
   "nbconvert_exporter": "python",
   "pygments_lexer": "ipython3",
   "version": "3.10.11"
  },
  "orig_nbformat": 4,
  "vscode": {
   "interpreter": {
    "hash": "8d3a06df2823a66d95fe8f341fd415364609d86e2a97557202419aeb6b2e6f61"
   }
  }
 },
 "nbformat": 4,
 "nbformat_minor": 2
}
