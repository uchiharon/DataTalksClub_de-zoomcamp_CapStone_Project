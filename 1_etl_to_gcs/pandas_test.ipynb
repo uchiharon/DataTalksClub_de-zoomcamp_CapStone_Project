{
 "cells": [
  {
   "cell_type": "code",
   "execution_count": 1,
   "metadata": {},
   "outputs": [],
   "source": [
    "import pandas as pd"
   ]
  },
  {
   "cell_type": "code",
   "execution_count": 18,
   "metadata": {},
   "outputs": [],
   "source": [
    "sheet_name = pd.ExcelFile(\"f923_2022/EIA923_Schedules_2_3_4_5_M_12_2022_21FEB2023.xlsx\").sheet_names"
   ]
  },
  {
   "cell_type": "code",
   "execution_count": 24,
   "metadata": {},
   "outputs": [
    {
     "data": {
      "text/plain": [
       "['Page 1 Generation and Fuel Data',\n",
       " 'Page 1 Puerto Rico',\n",
       " 'Page 1 Energy Storage',\n",
       " 'Page 2 Stocks Data',\n",
       " 'Page 2 Oil Stocks Data',\n",
       " 'Page 3 Boiler Fuel Data',\n",
       " 'Page 4 Generator Data',\n",
       " 'Page 5 Fuel Receipts and Costs',\n",
       " 'Page 6 Plant Frame',\n",
       " 'Page 6 Plant Frame Puerto Rico',\n",
       " 'Page 7 File Layout']"
      ]
     },
     "execution_count": 24,
     "metadata": {},
     "output_type": "execute_result"
    }
   ],
   "source": [
    "sheet_name"
   ]
  },
  {
   "cell_type": "code",
   "execution_count": 20,
   "metadata": {},
   "outputs": [],
   "source": [
    "df= pd.read_excel(\"f923_2022/EIA923_Schedules_2_3_4_5_M_12_2022_21FEB2023.xlsx\", sheet_name=sheet_name[2])"
   ]
  },
  {
   "cell_type": "code",
   "execution_count": 36,
   "metadata": {},
   "outputs": [
    {
     "data": {
      "text/html": [
       "<div>\n",
       "<style scoped>\n",
       "    .dataframe tbody tr th:only-of-type {\n",
       "        vertical-align: middle;\n",
       "    }\n",
       "\n",
       "    .dataframe tbody tr th {\n",
       "        vertical-align: top;\n",
       "    }\n",
       "\n",
       "    .dataframe thead th {\n",
       "        text-align: right;\n",
       "    }\n",
       "</style>\n",
       "<table border=\"1\" class=\"dataframe\">\n",
       "  <thead>\n",
       "    <tr style=\"text-align: right;\">\n",
       "      <th></th>\n",
       "      <th>U.S. Department of Energy, The Energy Information Administration (EIA)</th>\n",
       "      <th>Unnamed: 1</th>\n",
       "      <th>Unnamed: 2</th>\n",
       "      <th>Unnamed: 3</th>\n",
       "      <th>Unnamed: 4</th>\n",
       "      <th>Unnamed: 5</th>\n",
       "      <th>Unnamed: 6</th>\n",
       "      <th>Unnamed: 7</th>\n",
       "      <th>Unnamed: 8</th>\n",
       "      <th>Unnamed: 9</th>\n",
       "      <th>...</th>\n",
       "      <th>Unnamed: 60</th>\n",
       "      <th>Unnamed: 61</th>\n",
       "      <th>Unnamed: 62</th>\n",
       "      <th>Unnamed: 63</th>\n",
       "      <th>Unnamed: 64</th>\n",
       "      <th>Unnamed: 65</th>\n",
       "      <th>Unnamed: 66</th>\n",
       "      <th>Unnamed: 67</th>\n",
       "      <th>Unnamed: 68</th>\n",
       "      <th>Unnamed: 69</th>\n",
       "    </tr>\n",
       "  </thead>\n",
       "  <tbody>\n",
       "    <tr>\n",
       "      <th>0</th>\n",
       "      <td>EIA-923 Monthly Generation and Fuel Consumptio...</td>\n",
       "      <td>NaN</td>\n",
       "      <td>NaN</td>\n",
       "      <td>NaN</td>\n",
       "      <td>NaN</td>\n",
       "      <td>NaN</td>\n",
       "      <td>NaN</td>\n",
       "      <td>NaN</td>\n",
       "      <td>NaN</td>\n",
       "      <td>NaN</td>\n",
       "      <td>...</td>\n",
       "      <td>NaN</td>\n",
       "      <td>NaN</td>\n",
       "      <td>NaN</td>\n",
       "      <td>NaN</td>\n",
       "      <td>NaN</td>\n",
       "      <td>NaN</td>\n",
       "      <td>NaN</td>\n",
       "      <td>NaN</td>\n",
       "      <td>NaN</td>\n",
       "      <td>NaN</td>\n",
       "    </tr>\n",
       "    <tr>\n",
       "      <th>1</th>\n",
       "      <td>Sources: EIA-923 and EIA-860 Reports</td>\n",
       "      <td>NaN</td>\n",
       "      <td>NaN</td>\n",
       "      <td>NaN</td>\n",
       "      <td>NaN</td>\n",
       "      <td>NaN</td>\n",
       "      <td>NaN</td>\n",
       "      <td>NaN</td>\n",
       "      <td>NaN</td>\n",
       "      <td>NaN</td>\n",
       "      <td>...</td>\n",
       "      <td>NaN</td>\n",
       "      <td>NaN</td>\n",
       "      <td>NaN</td>\n",
       "      <td>NaN</td>\n",
       "      <td>NaN</td>\n",
       "      <td>NaN</td>\n",
       "      <td>NaN</td>\n",
       "      <td>NaN</td>\n",
       "      <td>NaN</td>\n",
       "      <td>NaN</td>\n",
       "    </tr>\n",
       "    <tr>\n",
       "      <th>2</th>\n",
       "      <td>NaN</td>\n",
       "      <td>NaN</td>\n",
       "      <td>NaN</td>\n",
       "      <td>NaN</td>\n",
       "      <td>NaN</td>\n",
       "      <td>NaN</td>\n",
       "      <td>NaN</td>\n",
       "      <td>NaN</td>\n",
       "      <td>NaN</td>\n",
       "      <td>NaN</td>\n",
       "      <td>...</td>\n",
       "      <td>NaN</td>\n",
       "      <td>NaN</td>\n",
       "      <td>NaN</td>\n",
       "      <td>NaN</td>\n",
       "      <td>NaN</td>\n",
       "      <td>Year-To-Date</td>\n",
       "      <td>NaN</td>\n",
       "      <td>NaN</td>\n",
       "      <td>NaN</td>\n",
       "      <td>NaN</td>\n",
       "    </tr>\n",
       "    <tr>\n",
       "      <th>3</th>\n",
       "      <td>Plant Id</td>\n",
       "      <td>Combined Heat And\\nPower Plant</td>\n",
       "      <td>Plant Name</td>\n",
       "      <td>Operator Name</td>\n",
       "      <td>Operator Id</td>\n",
       "      <td>Plant State</td>\n",
       "      <td>Census Region</td>\n",
       "      <td>NERC Region</td>\n",
       "      <td>Reserved</td>\n",
       "      <td>NAICS Code</td>\n",
       "      <td>...</td>\n",
       "      <td>Netgen\\nAugust</td>\n",
       "      <td>Netgen\\nSeptember</td>\n",
       "      <td>Netgen\\nOctober</td>\n",
       "      <td>Netgen\\nNovember</td>\n",
       "      <td>Netgen\\nDecember</td>\n",
       "      <td>Total Fuel Consumption\\nQuantity</td>\n",
       "      <td>Electric Fuel Consumption\\nQuantity</td>\n",
       "      <td>Gross Generation\\n(Megawatthours)</td>\n",
       "      <td>Net Generation\\n(Megawatthours)</td>\n",
       "      <td>YEAR</td>\n",
       "    </tr>\n",
       "    <tr>\n",
       "      <th>4</th>\n",
       "      <td>104</td>\n",
       "      <td>N</td>\n",
       "      <td>J S Eastwood</td>\n",
       "      <td>Southern California Edison Co</td>\n",
       "      <td>17609</td>\n",
       "      <td>CA</td>\n",
       "      <td>PACC</td>\n",
       "      <td>WECC</td>\n",
       "      <td>NaN</td>\n",
       "      <td>22</td>\n",
       "      <td>...</td>\n",
       "      <td>46793</td>\n",
       "      <td>17842</td>\n",
       "      <td>0</td>\n",
       "      <td>0</td>\n",
       "      <td>-108</td>\n",
       "      <td>1462</td>\n",
       "      <td>1462</td>\n",
       "      <td>146564</td>\n",
       "      <td>145100</td>\n",
       "      <td>2022</td>\n",
       "    </tr>\n",
       "  </tbody>\n",
       "</table>\n",
       "<p>5 rows × 70 columns</p>\n",
       "</div>"
      ],
      "text/plain": [
       "  U.S. Department of Energy, The Energy Information Administration (EIA)  \\\n",
       "0  EIA-923 Monthly Generation and Fuel Consumptio...                       \n",
       "1               Sources: EIA-923 and EIA-860 Reports                       \n",
       "2                                                NaN                       \n",
       "3                                           Plant Id                       \n",
       "4                                                104                       \n",
       "\n",
       "                       Unnamed: 1    Unnamed: 2  \\\n",
       "0                             NaN           NaN   \n",
       "1                             NaN           NaN   \n",
       "2                             NaN           NaN   \n",
       "3  Combined Heat And\\nPower Plant    Plant Name   \n",
       "4                               N  J S Eastwood   \n",
       "\n",
       "                      Unnamed: 3   Unnamed: 4   Unnamed: 5     Unnamed: 6  \\\n",
       "0                            NaN          NaN          NaN            NaN   \n",
       "1                            NaN          NaN          NaN            NaN   \n",
       "2                            NaN          NaN          NaN            NaN   \n",
       "3                  Operator Name  Operator Id  Plant State  Census Region   \n",
       "4  Southern California Edison Co        17609           CA           PACC   \n",
       "\n",
       "    Unnamed: 7 Unnamed: 8  Unnamed: 9  ...     Unnamed: 60        Unnamed: 61  \\\n",
       "0          NaN        NaN         NaN  ...             NaN                NaN   \n",
       "1          NaN        NaN         NaN  ...             NaN                NaN   \n",
       "2          NaN        NaN         NaN  ...             NaN                NaN   \n",
       "3  NERC Region   Reserved  NAICS Code  ...  Netgen\\nAugust  Netgen\\nSeptember   \n",
       "4         WECC        NaN          22  ...           46793              17842   \n",
       "\n",
       "       Unnamed: 62       Unnamed: 63       Unnamed: 64  \\\n",
       "0              NaN               NaN               NaN   \n",
       "1              NaN               NaN               NaN   \n",
       "2              NaN               NaN               NaN   \n",
       "3  Netgen\\nOctober  Netgen\\nNovember  Netgen\\nDecember   \n",
       "4                0                 0              -108   \n",
       "\n",
       "                        Unnamed: 65                          Unnamed: 66  \\\n",
       "0                               NaN                                  NaN   \n",
       "1                               NaN                                  NaN   \n",
       "2                      Year-To-Date                                  NaN   \n",
       "3  Total Fuel Consumption\\nQuantity  Electric Fuel Consumption\\nQuantity   \n",
       "4                              1462                                 1462   \n",
       "\n",
       "                         Unnamed: 67                      Unnamed: 68  \\\n",
       "0                                NaN                              NaN   \n",
       "1                                NaN                              NaN   \n",
       "2                                NaN                              NaN   \n",
       "3  Gross Generation\\n(Megawatthours)  Net Generation\\n(Megawatthours)   \n",
       "4                             146564                           145100   \n",
       "\n",
       "  Unnamed: 69  \n",
       "0         NaN  \n",
       "1         NaN  \n",
       "2         NaN  \n",
       "3        YEAR  \n",
       "4        2022  \n",
       "\n",
       "[5 rows x 70 columns]"
      ]
     },
     "execution_count": 36,
     "metadata": {},
     "output_type": "execute_result"
    }
   ],
   "source": [
    "df.head()"
   ]
  },
  {
   "cell_type": "code",
   "execution_count": 37,
   "metadata": {},
   "outputs": [
    {
     "data": {
      "text/plain": [
       "['Plant Id',\n",
       " 'Combined Heat And\\nPower Plant',\n",
       " 'Plant Name',\n",
       " 'Operator Name',\n",
       " 'Operator Id',\n",
       " 'Plant State',\n",
       " 'Census Region',\n",
       " 'NERC Region',\n",
       " 'Reserved',\n",
       " 'NAICS Code',\n",
       " 'EIA Sector Number',\n",
       " 'Sector Name',\n",
       " 'Reported\\nPrime Mover',\n",
       " 'Reported\\nFuel Type Code',\n",
       " 'AER\\nFuel Type Code',\n",
       " 'Balancing\\nAuthority Code',\n",
       " 'Physical\\nUnit Label',\n",
       " 'Quantity\\nJanuary',\n",
       " 'Quantity\\nFebruary',\n",
       " 'Quantity\\nMarch',\n",
       " 'Quantity\\nApril',\n",
       " 'Quantity\\nMay',\n",
       " 'Quantity\\nJune',\n",
       " 'Quantity\\nJuly',\n",
       " 'Quantity\\nAugust',\n",
       " 'Quantity\\nSeptember',\n",
       " 'Quantity\\nOctober',\n",
       " 'Quantity\\nNovember',\n",
       " 'Quantity\\nDecember',\n",
       " 'Elec_Quantity\\nJanuary',\n",
       " 'Elec_Quantity\\nFebruary',\n",
       " 'Elec_Quantity\\nMarch',\n",
       " 'Elec_Quantity\\nApril',\n",
       " 'Elec_Quantity\\nMay',\n",
       " 'Elec_Quantity\\nJune',\n",
       " 'Elec_Quantity\\nJuly',\n",
       " 'Elec_Quantity\\nAugust',\n",
       " 'Elec_Quantity\\nSeptember',\n",
       " 'Elec_Quantity\\nOctober',\n",
       " 'Elec_Quantity\\nNovember',\n",
       " 'Elec_Quantity\\nDecember',\n",
       " 'Grossgen\\nJanuary',\n",
       " 'Grossgen\\nFebruary',\n",
       " 'Grossgen\\nMarch',\n",
       " 'Grossgen\\nApril',\n",
       " 'Grossgen\\nMay',\n",
       " 'Grossgen\\nJune',\n",
       " 'Grossgen\\nJuly',\n",
       " 'Grossgen\\nAugust',\n",
       " 'Grossgen\\nSeptember',\n",
       " 'Grossgen\\nOctober',\n",
       " 'Grossgen\\nNovember',\n",
       " 'Grossgen\\nDecember',\n",
       " 'Netgen\\nJanuary',\n",
       " 'Netgen\\nFebruary',\n",
       " 'Netgen\\nMarch',\n",
       " 'Netgen\\nApril',\n",
       " 'Netgen\\nMay',\n",
       " 'Netgen\\nJune',\n",
       " 'Netgen\\nJuly',\n",
       " 'Netgen\\nAugust',\n",
       " 'Netgen\\nSeptember',\n",
       " 'Netgen\\nOctober',\n",
       " 'Netgen\\nNovember',\n",
       " 'Netgen\\nDecember',\n",
       " 'Total Fuel Consumption\\nQuantity',\n",
       " 'Electric Fuel Consumption\\nQuantity',\n",
       " 'Gross Generation\\n(Megawatthours)',\n",
       " 'Net Generation\\n(Megawatthours)',\n",
       " 'YEAR']"
      ]
     },
     "execution_count": 37,
     "metadata": {},
     "output_type": "execute_result"
    }
   ],
   "source": [
    "list(df.iloc[3])"
   ]
  },
  {
   "cell_type": "code",
   "execution_count": 40,
   "metadata": {},
   "outputs": [],
   "source": [
    "df.columns = list(df.iloc[3])"
   ]
  },
  {
   "cell_type": "code",
   "execution_count": 64,
   "metadata": {},
   "outputs": [],
   "source": [
    "def format_column_name(df_col:list) -> list:\n",
    "    df_new = [i.replace('\\n','_').replace(' ','_').lower() for i in df_col]\n",
    "    return df_new"
   ]
  },
  {
   "cell_type": "code",
   "execution_count": 65,
   "metadata": {},
   "outputs": [
    {
     "data": {
      "text/plain": [
       "['plant_id',\n",
       " 'combined_heat_and_power_plant',\n",
       " 'plant_name',\n",
       " 'operator_name',\n",
       " 'operator_id',\n",
       " 'plant_state',\n",
       " 'census_region',\n",
       " 'nerc_region',\n",
       " 'reserved',\n",
       " 'naics_code',\n",
       " 'eia_sector_number',\n",
       " 'sector_name',\n",
       " 'reported_prime_mover',\n",
       " 'reported_fuel_type_code',\n",
       " 'aer_fuel_type_code',\n",
       " 'balancing_authority_code',\n",
       " 'physical_unit_label',\n",
       " 'quantity_january',\n",
       " 'quantity_february',\n",
       " 'quantity_march',\n",
       " 'quantity_april',\n",
       " 'quantity_may',\n",
       " 'quantity_june',\n",
       " 'quantity_july',\n",
       " 'quantity_august',\n",
       " 'quantity_september',\n",
       " 'quantity_october',\n",
       " 'quantity_november',\n",
       " 'quantity_december',\n",
       " 'elec_quantity_january',\n",
       " 'elec_quantity_february',\n",
       " 'elec_quantity_march',\n",
       " 'elec_quantity_april',\n",
       " 'elec_quantity_may',\n",
       " 'elec_quantity_june',\n",
       " 'elec_quantity_july',\n",
       " 'elec_quantity_august',\n",
       " 'elec_quantity_september',\n",
       " 'elec_quantity_october',\n",
       " 'elec_quantity_november',\n",
       " 'elec_quantity_december',\n",
       " 'grossgen_january',\n",
       " 'grossgen_february',\n",
       " 'grossgen_march',\n",
       " 'grossgen_april',\n",
       " 'grossgen_may',\n",
       " 'grossgen_june',\n",
       " 'grossgen_july',\n",
       " 'grossgen_august',\n",
       " 'grossgen_september',\n",
       " 'grossgen_october',\n",
       " 'grossgen_november',\n",
       " 'grossgen_december',\n",
       " 'netgen_january',\n",
       " 'netgen_february',\n",
       " 'netgen_march',\n",
       " 'netgen_april',\n",
       " 'netgen_may',\n",
       " 'netgen_june',\n",
       " 'netgen_july',\n",
       " 'netgen_august',\n",
       " 'netgen_september',\n",
       " 'netgen_october',\n",
       " 'netgen_november',\n",
       " 'netgen_december',\n",
       " 'total_fuel_consumption_quantity',\n",
       " 'electric_fuel_consumption_quantity',\n",
       " 'gross_generation_(megawatthours)',\n",
       " 'net_generation_(megawatthours)',\n",
       " 'year']"
      ]
     },
     "execution_count": 65,
     "metadata": {},
     "output_type": "execute_result"
    }
   ],
   "source": [
    "format_column_name(df.columns)"
   ]
  },
  {
   "cell_type": "code",
   "execution_count": 21,
   "metadata": {},
   "outputs": [
    {
     "name": "stdout",
     "output_type": "stream",
     "text": [
      "<class 'pandas.core.frame.DataFrame'>\n",
      "RangeIndex: 37 entries, 0 to 36\n",
      "Data columns (total 97 columns):\n",
      " #   Column                                                                  Non-Null Count  Dtype \n",
      "---  ------                                                                  --------------  ----- \n",
      " 0   U.S. Department of Energy, The Energy Information Administration (EIA)  36 non-null     object\n",
      " 1   Unnamed: 1                                                              33 non-null     object\n",
      " 2   Unnamed: 2                                                              33 non-null     object\n",
      " 3   Unnamed: 3                                                              33 non-null     object\n",
      " 4   Unnamed: 4                                                              33 non-null     object\n",
      " 5   Unnamed: 5                                                              33 non-null     object\n",
      " 6   Unnamed: 6                                                              33 non-null     object\n",
      " 7   Unnamed: 7                                                              1 non-null      object\n",
      " 8   Unnamed: 8                                                              1 non-null      object\n",
      " 9   Unnamed: 9                                                              1 non-null      object\n",
      " 10  Unnamed: 10                                                             33 non-null     object\n",
      " 11  Unnamed: 11                                                             33 non-null     object\n",
      " 12  Unnamed: 12                                                             33 non-null     object\n",
      " 13  Unnamed: 13                                                             33 non-null     object\n",
      " 14  Unnamed: 14                                                             33 non-null     object\n",
      " 15  Unnamed: 15                                                             33 non-null     object\n",
      " 16  Unnamed: 16                                                             1 non-null      object\n",
      " 17  Unnamed: 17                                                             1 non-null      object\n",
      " 18  Unnamed: 18                                                             27 non-null     object\n",
      " 19  Unnamed: 19                                                             34 non-null     object\n",
      " 20  Unnamed: 20                                                             33 non-null     object\n",
      " 21  Unnamed: 21                                                             33 non-null     object\n",
      " 22  Unnamed: 22                                                             33 non-null     object\n",
      " 23  Unnamed: 23                                                             33 non-null     object\n",
      " 24  Unnamed: 24                                                             33 non-null     object\n",
      " 25  Unnamed: 25                                                             33 non-null     object\n",
      " 26  Unnamed: 26                                                             33 non-null     object\n",
      " 27  Unnamed: 27                                                             33 non-null     object\n",
      " 28  Unnamed: 28                                                             33 non-null     object\n",
      " 29  Unnamed: 29                                                             33 non-null     object\n",
      " 30  Unnamed: 30                                                             33 non-null     object\n",
      " 31  Unnamed: 31                                                             34 non-null     object\n",
      " 32  Unnamed: 32                                                             33 non-null     object\n",
      " 33  Unnamed: 33                                                             33 non-null     object\n",
      " 34  Unnamed: 34                                                             33 non-null     object\n",
      " 35  Unnamed: 35                                                             33 non-null     object\n",
      " 36  Unnamed: 36                                                             33 non-null     object\n",
      " 37  Unnamed: 37                                                             33 non-null     object\n",
      " 38  Unnamed: 38                                                             33 non-null     object\n",
      " 39  Unnamed: 39                                                             33 non-null     object\n",
      " 40  Unnamed: 40                                                             33 non-null     object\n",
      " 41  Unnamed: 41                                                             33 non-null     object\n",
      " 42  Unnamed: 42                                                             33 non-null     object\n",
      " 43  Unnamed: 43                                                             34 non-null     object\n",
      " 44  Unnamed: 44                                                             33 non-null     object\n",
      " 45  Unnamed: 45                                                             33 non-null     object\n",
      " 46  Unnamed: 46                                                             33 non-null     object\n",
      " 47  Unnamed: 47                                                             33 non-null     object\n",
      " 48  Unnamed: 48                                                             33 non-null     object\n",
      " 49  Unnamed: 49                                                             33 non-null     object\n",
      " 50  Unnamed: 50                                                             33 non-null     object\n",
      " 51  Unnamed: 51                                                             33 non-null     object\n",
      " 52  Unnamed: 52                                                             33 non-null     object\n",
      " 53  Unnamed: 53                                                             33 non-null     object\n",
      " 54  Unnamed: 54                                                             33 non-null     object\n",
      " 55  Unnamed: 55                                                             34 non-null     object\n",
      " 56  Unnamed: 56                                                             33 non-null     object\n",
      " 57  Unnamed: 57                                                             33 non-null     object\n",
      " 58  Unnamed: 58                                                             33 non-null     object\n",
      " 59  Unnamed: 59                                                             33 non-null     object\n",
      " 60  Unnamed: 60                                                             33 non-null     object\n",
      " 61  Unnamed: 61                                                             33 non-null     object\n",
      " 62  Unnamed: 62                                                             33 non-null     object\n",
      " 63  Unnamed: 63                                                             33 non-null     object\n",
      " 64  Unnamed: 64                                                             33 non-null     object\n",
      " 65  Unnamed: 65                                                             33 non-null     object\n",
      " 66  Unnamed: 66                                                             33 non-null     object\n",
      " 67  Unnamed: 67                                                             34 non-null     object\n",
      " 68  Unnamed: 68                                                             33 non-null     object\n",
      " 69  Unnamed: 69                                                             33 non-null     object\n",
      " 70  Unnamed: 70                                                             33 non-null     object\n",
      " 71  Unnamed: 71                                                             33 non-null     object\n",
      " 72  Unnamed: 72                                                             33 non-null     object\n",
      " 73  Unnamed: 73                                                             33 non-null     object\n",
      " 74  Unnamed: 74                                                             33 non-null     object\n",
      " 75  Unnamed: 75                                                             33 non-null     object\n",
      " 76  Unnamed: 76                                                             33 non-null     object\n",
      " 77  Unnamed: 77                                                             33 non-null     object\n",
      " 78  Unnamed: 78                                                             33 non-null     object\n",
      " 79  Unnamed: 79                                                             34 non-null     object\n",
      " 80  Unnamed: 80                                                             33 non-null     object\n",
      " 81  Unnamed: 81                                                             33 non-null     object\n",
      " 82  Unnamed: 82                                                             33 non-null     object\n",
      " 83  Unnamed: 83                                                             33 non-null     object\n",
      " 84  Unnamed: 84                                                             33 non-null     object\n",
      " 85  Unnamed: 85                                                             33 non-null     object\n",
      " 86  Unnamed: 86                                                             33 non-null     object\n",
      " 87  Unnamed: 87                                                             33 non-null     object\n",
      " 88  Unnamed: 88                                                             33 non-null     object\n",
      " 89  Unnamed: 89                                                             33 non-null     object\n",
      " 90  Unnamed: 90                                                             33 non-null     object\n",
      " 91  Unnamed: 91                                                             34 non-null     object\n",
      " 92  Unnamed: 92                                                             33 non-null     object\n",
      " 93  Unnamed: 93                                                             33 non-null     object\n",
      " 94  Unnamed: 94                                                             33 non-null     object\n",
      " 95  Unnamed: 95                                                             33 non-null     object\n",
      " 96  Unnamed: 96                                                             33 non-null     object\n",
      "dtypes: object(97)\n",
      "memory usage: 28.2+ KB\n"
     ]
    }
   ],
   "source": [
    "df.info()"
   ]
  },
  {
   "cell_type": "code",
   "execution_count": 20,
   "metadata": {},
   "outputs": [
    {
     "data": {
      "text/plain": [
       "['Plant_Id',\n",
       " 'Combined_Heat_And_Power_Plant',\n",
       " 'Nuclear_Unit_Id',\n",
       " 'Plant_Name',\n",
       " 'Operator_Name',\n",
       " 'Operator_Id',\n",
       " 'Plant_State',\n",
       " 'Census_Region',\n",
       " 'NERC_Region',\n",
       " 'Reserved',\n",
       " 'NAICS_Code',\n",
       " 'EIA_Sector_Number',\n",
       " 'Sector_Name',\n",
       " 'Reported_Prime_Mover',\n",
       " 'Reported_Fuel_Type_Code',\n",
       " 'AER_Fuel_Type_Code',\n",
       " 'Reserved',\n",
       " 'Reserved',\n",
       " 'Physical_Unit_Label',\n",
       " 'Quantity_January',\n",
       " 'Quantity_February',\n",
       " 'Quantity_March',\n",
       " 'Quantity_April',\n",
       " 'Quantity_May',\n",
       " 'Quantity_June',\n",
       " 'Quantity_July',\n",
       " 'Quantity_August',\n",
       " 'Quantity_September',\n",
       " 'Quantity_October',\n",
       " 'Quantity_November',\n",
       " 'Quantity_December',\n",
       " 'Elec_Quantity_January',\n",
       " 'Elec_Quantity_February',\n",
       " 'Elec_Quantity_March',\n",
       " 'Elec_Quantity_April',\n",
       " 'Elec_Quantity_May',\n",
       " 'Elec_Quantity_June',\n",
       " 'Elec_Quantity_July',\n",
       " 'Elec_Quantity_August',\n",
       " 'Elec_Quantity_September',\n",
       " 'Elec_Quantity_October',\n",
       " 'Elec_Quantity_November',\n",
       " 'Elec_Quantity_December',\n",
       " 'MMBtuPer_Unit_January',\n",
       " 'MMBtuPer_Unit_February',\n",
       " 'MMBtuPer_Unit_March',\n",
       " 'MMBtuPer_Unit_April',\n",
       " 'MMBtuPer_Unit_May',\n",
       " 'MMBtuPer_Unit_June',\n",
       " 'MMBtuPer_Unit_July',\n",
       " 'MMBtuPer_Unit_August',\n",
       " 'MMBtuPer_Unit_September',\n",
       " 'MMBtuPer_Unit_October',\n",
       " 'MMBtuPer_Unit_November',\n",
       " 'MMBtuPer_Unit_December',\n",
       " 'Tot_MMBtu_January',\n",
       " 'Tot_MMBtu_February',\n",
       " 'Tot_MMBtu_March',\n",
       " 'Tot_MMBtu_April',\n",
       " 'Tot_MMBtu_May',\n",
       " 'Tot_MMBtu_June',\n",
       " 'Tot_MMBtu_July',\n",
       " 'Tot_MMBtu_August',\n",
       " 'Tot_MMBtu_September',\n",
       " 'Tot_MMBtu_October',\n",
       " 'Tot_MMBtu_November',\n",
       " 'Tot_MMBtu_December',\n",
       " 'Elec_MMBtu_January',\n",
       " 'Elec_MMBtu_February',\n",
       " 'Elec_MMBtu_March',\n",
       " 'Elec_MMBtu_April',\n",
       " 'Elec_MMBtu_May',\n",
       " 'Elec_MMBtu_June',\n",
       " 'Elec_MMBtu_July',\n",
       " 'Elec_MMBtu_August',\n",
       " 'Elec_MMBtu_September',\n",
       " 'Elec_MMBtu_October',\n",
       " 'Elec_MMBtu_November',\n",
       " 'Elec_MMBtu_December',\n",
       " 'Netgen_January',\n",
       " 'Netgen_February',\n",
       " 'Netgen_March',\n",
       " 'Netgen_April',\n",
       " 'Netgen_May',\n",
       " 'Netgen_June',\n",
       " 'Netgen_July',\n",
       " 'Netgen_August',\n",
       " 'Netgen_September',\n",
       " 'Netgen_October',\n",
       " 'Netgen_November',\n",
       " 'Netgen_December',\n",
       " 'Total_Fuel_Consumption_Quantity',\n",
       " 'Electric_Fuel_Consumption_Quantity',\n",
       " 'Total_Fuel_Consumption_MMBtu',\n",
       " 'Elec_Fuel_Consumption_MMBtu',\n",
       " 'Net_Generation_(Megawatthours)',\n",
       " 'YEAR']"
      ]
     },
     "execution_count": 20,
     "metadata": {},
     "output_type": "execute_result"
    }
   ],
   "source": []
  },
  {
   "cell_type": "code",
   "execution_count": 1,
   "metadata": {},
   "outputs": [],
   "source": [
    "url  = \"https://www.eia.gov/electricity/data/eia923/archive/xls/f923_2021.zip\""
   ]
  },
  {
   "cell_type": "code",
   "execution_count": 29,
   "metadata": {},
   "outputs": [
    {
     "data": {
      "text/plain": [
       "'f923_2021.zip'"
      ]
     },
     "execution_count": 29,
     "metadata": {},
     "output_type": "execute_result"
    }
   ],
   "source": [
    "url.split('/')[-1]"
   ]
  },
  {
   "cell_type": "code",
   "execution_count": 15,
   "metadata": {},
   "outputs": [
    {
     "data": {
      "text/plain": [
       "'2021'"
      ]
     },
     "execution_count": 15,
     "metadata": {},
     "output_type": "execute_result"
    }
   ],
   "source": [
    "import re\n",
    "re.findall('\\d+', url.split('/')[-1] )[-1]"
   ]
  },
  {
   "cell_type": "code",
   "execution_count": 66,
   "metadata": {},
   "outputs": [
    {
     "name": "stdout",
     "output_type": "stream",
     "text": [
      "92 92\n"
     ]
    }
   ],
   "source": [
    "import columns_name\n",
    "\n",
    "print(len(columns_name.sheet_0_columns_rq), len(columns_name.sheet_1_columns_rq))"
   ]
  },
  {
   "cell_type": "code",
   "execution_count": 67,
   "metadata": {},
   "outputs": [
    {
     "name": "stdout",
     "output_type": "stream",
     "text": [
      "66 37\n"
     ]
    }
   ],
   "source": [
    "print(len(columns_name.sheet_2_columns_rq), len(columns_name.sheet_3_columns_rq))"
   ]
  },
  {
   "cell_type": "code",
   "execution_count": 68,
   "metadata": {},
   "outputs": [
    {
     "name": "stdout",
     "output_type": "stream",
     "text": [
      "28 65\n"
     ]
    }
   ],
   "source": [
    "print(len(columns_name.sheet_4_columns_rq), len(columns_name.sheet_5_columns_rq))"
   ]
  },
  {
   "cell_type": "code",
   "execution_count": 69,
   "metadata": {},
   "outputs": [
    {
     "name": "stdout",
     "output_type": "stream",
     "text": [
      "28 31\n"
     ]
    }
   ],
   "source": [
    "print(len(columns_name.sheet_6_columns_rq), len(columns_name.sheet_7_columns_rq))"
   ]
  },
  {
   "cell_type": "code",
   "execution_count": 71,
   "metadata": {},
   "outputs": [
    {
     "name": "stdout",
     "output_type": "stream",
     "text": [
      "9 9\n"
     ]
    }
   ],
   "source": [
    "print(len(columns_name.sheet_8_columns_rq), len(columns_name.sheet_9_columns_rq))"
   ]
  },
  {
   "cell_type": "code",
   "execution_count": 72,
   "metadata": {},
   "outputs": [
    {
     "name": "stdout",
     "output_type": "stream",
     "text": [
      "<class 'pandas.core.frame.DataFrame'>\n",
      "RangeIndex: 285 entries, 0 to 284\n",
      "Data columns (total 70 columns):\n",
      " #   Column                              Non-Null Count  Dtype \n",
      "---  ------                              --------------  ----- \n",
      " 0   Plant Id                            284 non-null    object\n",
      " 1   Combined Heat And\n",
      "Power Plant       282 non-null    object\n",
      " 2   Plant Name                          282 non-null    object\n",
      " 3   Operator Name                       282 non-null    object\n",
      " 4   Operator Id                         282 non-null    object\n",
      " 5   Plant State                         282 non-null    object\n",
      " 6   Census Region                       282 non-null    object\n",
      " 7   NERC Region                         270 non-null    object\n",
      " 8   Reserved                            1 non-null      object\n",
      " 9   NAICS Code                          282 non-null    object\n",
      " 10  EIA Sector Number                   282 non-null    object\n",
      " 11  Sector Name                         282 non-null    object\n",
      " 12  Reported\n",
      "Prime Mover                282 non-null    object\n",
      " 13  Reported\n",
      "Fuel Type Code             282 non-null    object\n",
      " 14  AER\n",
      "Fuel Type Code                  282 non-null    object\n",
      " 15  Balancing\n",
      "Authority Code            271 non-null    object\n",
      " 16  Physical\n",
      "Unit Label                 200 non-null    object\n",
      " 17  Quantity\n",
      "January                    283 non-null    object\n",
      " 18  Quantity\n",
      "February                   282 non-null    object\n",
      " 19  Quantity\n",
      "March                      282 non-null    object\n",
      " 20  Quantity\n",
      "April                      282 non-null    object\n",
      " 21  Quantity\n",
      "May                        282 non-null    object\n",
      " 22  Quantity\n",
      "June                       282 non-null    object\n",
      " 23  Quantity\n",
      "July                       282 non-null    object\n",
      " 24  Quantity\n",
      "August                     282 non-null    object\n",
      " 25  Quantity\n",
      "September                  282 non-null    object\n",
      " 26  Quantity\n",
      "October                    282 non-null    object\n",
      " 27  Quantity\n",
      "November                   282 non-null    object\n",
      " 28  Quantity\n",
      "December                   282 non-null    object\n",
      " 29  Elec_Quantity\n",
      "January               283 non-null    object\n",
      " 30  Elec_Quantity\n",
      "February              282 non-null    object\n",
      " 31  Elec_Quantity\n",
      "March                 282 non-null    object\n",
      " 32  Elec_Quantity\n",
      "April                 282 non-null    object\n",
      " 33  Elec_Quantity\n",
      "May                   282 non-null    object\n",
      " 34  Elec_Quantity\n",
      "June                  282 non-null    object\n",
      " 35  Elec_Quantity\n",
      "July                  282 non-null    object\n",
      " 36  Elec_Quantity\n",
      "August                282 non-null    object\n",
      " 37  Elec_Quantity\n",
      "September             282 non-null    object\n",
      " 38  Elec_Quantity\n",
      "October               282 non-null    object\n",
      " 39  Elec_Quantity\n",
      "November              282 non-null    object\n",
      " 40  Elec_Quantity\n",
      "December              282 non-null    object\n",
      " 41  Grossgen\n",
      "January                    283 non-null    object\n",
      " 42  Grossgen\n",
      "February                   282 non-null    object\n",
      " 43  Grossgen\n",
      "March                      282 non-null    object\n",
      " 44  Grossgen\n",
      "April                      282 non-null    object\n",
      " 45  Grossgen\n",
      "May                        282 non-null    object\n",
      " 46  Grossgen\n",
      "June                       282 non-null    object\n",
      " 47  Grossgen\n",
      "July                       282 non-null    object\n",
      " 48  Grossgen\n",
      "August                     282 non-null    object\n",
      " 49  Grossgen\n",
      "September                  282 non-null    object\n",
      " 50  Grossgen\n",
      "October                    282 non-null    object\n",
      " 51  Grossgen\n",
      "November                   282 non-null    object\n",
      " 52  Grossgen\n",
      "December                   282 non-null    object\n",
      " 53  Netgen\n",
      "January                      283 non-null    object\n",
      " 54  Netgen\n",
      "February                     282 non-null    object\n",
      " 55  Netgen\n",
      "March                        282 non-null    object\n",
      " 56  Netgen\n",
      "April                        282 non-null    object\n",
      " 57  Netgen\n",
      "May                          282 non-null    object\n",
      " 58  Netgen\n",
      "June                         282 non-null    object\n",
      " 59  Netgen\n",
      "July                         282 non-null    object\n",
      " 60  Netgen\n",
      "August                       282 non-null    object\n",
      " 61  Netgen\n",
      "September                    282 non-null    object\n",
      " 62  Netgen\n",
      "October                      282 non-null    object\n",
      " 63  Netgen\n",
      "November                     282 non-null    object\n",
      " 64  Netgen\n",
      "December                     282 non-null    object\n",
      " 65  Total Fuel Consumption\n",
      "Quantity     283 non-null    object\n",
      " 66  Electric Fuel Consumption\n",
      "Quantity  282 non-null    object\n",
      " 67  Gross Generation\n",
      "(Megawatthours)    282 non-null    object\n",
      " 68  Net Generation\n",
      "(Megawatthours)      282 non-null    object\n",
      " 69  YEAR                                282 non-null    object\n",
      "dtypes: object(70)\n",
      "memory usage: 156.0+ KB\n"
     ]
    }
   ],
   "source": [
    "df.info()"
   ]
  },
  {
   "cell_type": "code",
   "execution_count": 21,
   "metadata": {},
   "outputs": [],
   "source": [
    "df = df.astype(str)"
   ]
  },
  {
   "cell_type": "code",
   "execution_count": 22,
   "metadata": {},
   "outputs": [
    {
     "data": {
      "text/plain": [
       "(285, 70)"
      ]
     },
     "execution_count": 22,
     "metadata": {},
     "output_type": "execute_result"
    }
   ],
   "source": [
    "df.shape"
   ]
  },
  {
   "cell_type": "code",
   "execution_count": 25,
   "metadata": {},
   "outputs": [],
   "source": [
    "def afa():\n",
    "    try:\n",
    "        a='AFA'\n",
    "    except:\n",
    "        print('error')\n",
    "    return a"
   ]
  },
  {
   "cell_type": "code",
   "execution_count": 26,
   "metadata": {},
   "outputs": [
    {
     "data": {
      "text/plain": [
       "'AFA'"
      ]
     },
     "execution_count": 26,
     "metadata": {},
     "output_type": "execute_result"
    }
   ],
   "source": [
    "afa()"
   ]
  },
  {
   "cell_type": "code",
   "execution_count": 2,
   "metadata": {},
   "outputs": [],
   "source": [
    "sheet_name = pd.ExcelFile(\"f923_2021/EIA923_Schedules_2_3_4_5_M_12_2021_Final_Revision.xlsx\").sheet_names"
   ]
  },
  {
   "cell_type": "code",
   "execution_count": 3,
   "metadata": {},
   "outputs": [
    {
     "data": {
      "text/plain": [
       "['Page 1 Generation and Fuel Data',\n",
       " 'Page 1 Puerto Rico',\n",
       " 'Page 1 Energy Storage',\n",
       " 'Page 2 Stocks Data',\n",
       " 'Page 2 Oil Stocks Data',\n",
       " 'Page 2 Coal Stocks Data',\n",
       " 'Page 2 Petcoke Stocks Data',\n",
       " 'Page 3 Boiler Fuel Data',\n",
       " 'Page 4 Generator Data',\n",
       " 'Page 5 Fuel Receipts and Costs',\n",
       " 'Page 6 Plant Frame',\n",
       " 'Page 6 Plant Frame Puerto Rico',\n",
       " 'Page 7 File Layout']"
      ]
     },
     "execution_count": 3,
     "metadata": {},
     "output_type": "execute_result"
    }
   ],
   "source": [
    "sheet_name"
   ]
  },
  {
   "cell_type": "code",
   "execution_count": 4,
   "metadata": {},
   "outputs": [
    {
     "data": {
      "text/plain": [
       "13"
      ]
     },
     "execution_count": 4,
     "metadata": {},
     "output_type": "execute_result"
    }
   ],
   "source": [
    "len(sheet_name)"
   ]
  },
  {
   "cell_type": "code",
   "execution_count": 11,
   "metadata": {},
   "outputs": [],
   "source": [
    "df= pd.read_excel(\"f923_2021/EIA923_Schedules_2_3_4_5_M_12_2021_Final_Revision.xlsx\", sheet_name=sheet_name[7])"
   ]
  },
  {
   "cell_type": "code",
   "execution_count": 12,
   "metadata": {},
   "outputs": [
    {
     "data": {
      "text/html": [
       "<div>\n",
       "<style scoped>\n",
       "    .dataframe tbody tr th:only-of-type {\n",
       "        vertical-align: middle;\n",
       "    }\n",
       "\n",
       "    .dataframe tbody tr th {\n",
       "        vertical-align: top;\n",
       "    }\n",
       "\n",
       "    .dataframe thead th {\n",
       "        text-align: right;\n",
       "    }\n",
       "</style>\n",
       "<table border=\"1\" class=\"dataframe\">\n",
       "  <thead>\n",
       "    <tr style=\"text-align: right;\">\n",
       "      <th></th>\n",
       "      <th>U.S. Department of Energy, The Energy Information Administration (EIA)</th>\n",
       "      <th>Unnamed: 1</th>\n",
       "      <th>Unnamed: 2</th>\n",
       "      <th>Unnamed: 3</th>\n",
       "      <th>Unnamed: 4</th>\n",
       "      <th>Unnamed: 5</th>\n",
       "      <th>Unnamed: 6</th>\n",
       "      <th>Unnamed: 7</th>\n",
       "      <th>Unnamed: 8</th>\n",
       "      <th>Unnamed: 9</th>\n",
       "      <th>...</th>\n",
       "      <th>Unnamed: 57</th>\n",
       "      <th>Unnamed: 58</th>\n",
       "      <th>Unnamed: 59</th>\n",
       "      <th>Unnamed: 60</th>\n",
       "      <th>Unnamed: 61</th>\n",
       "      <th>Unnamed: 62</th>\n",
       "      <th>Unnamed: 63</th>\n",
       "      <th>Unnamed: 64</th>\n",
       "      <th>Unnamed: 65</th>\n",
       "      <th>Unnamed: 66</th>\n",
       "    </tr>\n",
       "  </thead>\n",
       "  <tbody>\n",
       "    <tr>\n",
       "      <th>0</th>\n",
       "      <td>EIA-923 Monthly Boiler Fuel Consumption and Em...</td>\n",
       "      <td>NaN</td>\n",
       "      <td>NaN</td>\n",
       "      <td>NaN</td>\n",
       "      <td>NaN</td>\n",
       "      <td>NaN</td>\n",
       "      <td>NaN</td>\n",
       "      <td>NaN</td>\n",
       "      <td>NaN</td>\n",
       "      <td>NaN</td>\n",
       "      <td>...</td>\n",
       "      <td>NaN</td>\n",
       "      <td>NaN</td>\n",
       "      <td>NaN</td>\n",
       "      <td>NaN</td>\n",
       "      <td>NaN</td>\n",
       "      <td>NaN</td>\n",
       "      <td>NaN</td>\n",
       "      <td>NaN</td>\n",
       "      <td>NaN</td>\n",
       "      <td>NaN</td>\n",
       "    </tr>\n",
       "    <tr>\n",
       "      <th>1</th>\n",
       "      <td>Sources: EIA-923 and EIA-860 Reports</td>\n",
       "      <td>NaN</td>\n",
       "      <td>NaN</td>\n",
       "      <td>NaN</td>\n",
       "      <td>NaN</td>\n",
       "      <td>NaN</td>\n",
       "      <td>NaN</td>\n",
       "      <td>NaN</td>\n",
       "      <td>NaN</td>\n",
       "      <td>NaN</td>\n",
       "      <td>...</td>\n",
       "      <td>NaN</td>\n",
       "      <td>NaN</td>\n",
       "      <td>NaN</td>\n",
       "      <td>NaN</td>\n",
       "      <td>NaN</td>\n",
       "      <td>NaN</td>\n",
       "      <td>NaN</td>\n",
       "      <td>NaN</td>\n",
       "      <td>NaN</td>\n",
       "      <td>NaN</td>\n",
       "    </tr>\n",
       "    <tr>\n",
       "      <th>2</th>\n",
       "      <td>NaN</td>\n",
       "      <td>NaN</td>\n",
       "      <td>NaN</td>\n",
       "      <td>NaN</td>\n",
       "      <td>NaN</td>\n",
       "      <td>NaN</td>\n",
       "      <td>NaN</td>\n",
       "      <td>NaN</td>\n",
       "      <td>NaN</td>\n",
       "      <td>NaN</td>\n",
       "      <td>...</td>\n",
       "      <td>NaN</td>\n",
       "      <td>NaN</td>\n",
       "      <td>NaN</td>\n",
       "      <td>NaN</td>\n",
       "      <td>NaN</td>\n",
       "      <td>NaN</td>\n",
       "      <td>NaN</td>\n",
       "      <td>NaN</td>\n",
       "      <td>NaN</td>\n",
       "      <td>NaN</td>\n",
       "    </tr>\n",
       "    <tr>\n",
       "      <th>3</th>\n",
       "      <td>NaN</td>\n",
       "      <td>NaN</td>\n",
       "      <td>NaN</td>\n",
       "      <td>NaN</td>\n",
       "      <td>NaN</td>\n",
       "      <td>NaN</td>\n",
       "      <td>NaN</td>\n",
       "      <td>NaN</td>\n",
       "      <td>NaN</td>\n",
       "      <td>NaN</td>\n",
       "      <td>...</td>\n",
       "      <td>NaN</td>\n",
       "      <td>NaN</td>\n",
       "      <td>NaN</td>\n",
       "      <td>NaN</td>\n",
       "      <td>NaN</td>\n",
       "      <td>NaN</td>\n",
       "      <td>NaN</td>\n",
       "      <td>Year-To-Date</td>\n",
       "      <td>NaN</td>\n",
       "      <td>NaN</td>\n",
       "    </tr>\n",
       "    <tr>\n",
       "      <th>4</th>\n",
       "      <td>Plant Id</td>\n",
       "      <td>Combined Heat And\\n Power Plant</td>\n",
       "      <td>Plant Name</td>\n",
       "      <td>Operator Name</td>\n",
       "      <td>Operator Id</td>\n",
       "      <td>Plant State</td>\n",
       "      <td>Census Region</td>\n",
       "      <td>NERC Region</td>\n",
       "      <td>NAICS Code</td>\n",
       "      <td>Sector Number</td>\n",
       "      <td>...</td>\n",
       "      <td>Ash Content\\nJune</td>\n",
       "      <td>Ash Content\\nJuly</td>\n",
       "      <td>Ash Content\\nAugust</td>\n",
       "      <td>Ash Content\\nSeptember</td>\n",
       "      <td>Ash Content\\nOctober</td>\n",
       "      <td>Ash Content\\nNovember</td>\n",
       "      <td>Ash Content\\nDecember</td>\n",
       "      <td>Total Fuel Consumption\\nQuantity</td>\n",
       "      <td>Balancing\\nAuthority Code</td>\n",
       "      <td>YEAR</td>\n",
       "    </tr>\n",
       "  </tbody>\n",
       "</table>\n",
       "<p>5 rows × 67 columns</p>\n",
       "</div>"
      ],
      "text/plain": [
       "  U.S. Department of Energy, The Energy Information Administration (EIA)  \\\n",
       "0  EIA-923 Monthly Boiler Fuel Consumption and Em...                       \n",
       "1               Sources: EIA-923 and EIA-860 Reports                       \n",
       "2                                                NaN                       \n",
       "3                                                NaN                       \n",
       "4                                           Plant Id                       \n",
       "\n",
       "                        Unnamed: 1  Unnamed: 2     Unnamed: 3   Unnamed: 4  \\\n",
       "0                              NaN         NaN            NaN          NaN   \n",
       "1                              NaN         NaN            NaN          NaN   \n",
       "2                              NaN         NaN            NaN          NaN   \n",
       "3                              NaN         NaN            NaN          NaN   \n",
       "4  Combined Heat And\\n Power Plant  Plant Name  Operator Name  Operator Id   \n",
       "\n",
       "    Unnamed: 5     Unnamed: 6   Unnamed: 7  Unnamed: 8     Unnamed: 9  ...  \\\n",
       "0          NaN            NaN          NaN         NaN            NaN  ...   \n",
       "1          NaN            NaN          NaN         NaN            NaN  ...   \n",
       "2          NaN            NaN          NaN         NaN            NaN  ...   \n",
       "3          NaN            NaN          NaN         NaN            NaN  ...   \n",
       "4  Plant State  Census Region  NERC Region  NAICS Code  Sector Number  ...   \n",
       "\n",
       "         Unnamed: 57        Unnamed: 58          Unnamed: 59  \\\n",
       "0                NaN                NaN                  NaN   \n",
       "1                NaN                NaN                  NaN   \n",
       "2                NaN                NaN                  NaN   \n",
       "3                NaN                NaN                  NaN   \n",
       "4  Ash Content\\nJune  Ash Content\\nJuly  Ash Content\\nAugust   \n",
       "\n",
       "              Unnamed: 60           Unnamed: 61            Unnamed: 62  \\\n",
       "0                     NaN                   NaN                    NaN   \n",
       "1                     NaN                   NaN                    NaN   \n",
       "2                     NaN                   NaN                    NaN   \n",
       "3                     NaN                   NaN                    NaN   \n",
       "4  Ash Content\\nSeptember  Ash Content\\nOctober  Ash Content\\nNovember   \n",
       "\n",
       "             Unnamed: 63                       Unnamed: 64  \\\n",
       "0                    NaN                               NaN   \n",
       "1                    NaN                               NaN   \n",
       "2                    NaN                               NaN   \n",
       "3                    NaN                      Year-To-Date   \n",
       "4  Ash Content\\nDecember  Total Fuel Consumption\\nQuantity   \n",
       "\n",
       "                 Unnamed: 65 Unnamed: 66  \n",
       "0                        NaN         NaN  \n",
       "1                        NaN         NaN  \n",
       "2                        NaN         NaN  \n",
       "3                        NaN         NaN  \n",
       "4  Balancing\\nAuthority Code        YEAR  \n",
       "\n",
       "[5 rows x 67 columns]"
      ]
     },
     "execution_count": 12,
     "metadata": {},
     "output_type": "execute_result"
    }
   ],
   "source": [
    "df.head()"
   ]
  },
  {
   "cell_type": "code",
   "execution_count": 14,
   "metadata": {},
   "outputs": [
    {
     "name": "stdout",
     "output_type": "stream",
     "text": [
      "False\n"
     ]
    }
   ],
   "source": [
    "import excel_file_settings\n",
    "\n",
    "print(list(df.iloc[4]) == excel_file_settings.sheet_7_columns)"
   ]
  },
  {
   "cell_type": "code",
   "execution_count": 18,
   "metadata": {},
   "outputs": [
    {
     "data": {
      "text/plain": [
       "(66, 67, 'Page 3 Boiler Fuel Data')"
      ]
     },
     "execution_count": 18,
     "metadata": {},
     "output_type": "execute_result"
    }
   ],
   "source": [
    "len(excel_file_settings.sheet_7_columns), len(list(df.iloc[4])), sheet_name[7]"
   ]
  },
  {
   "cell_type": "code",
   "execution_count": 19,
   "metadata": {},
   "outputs": [
    {
     "data": {
      "text/plain": [
       "['Plant Id',\n",
       " 'Combined Heat And\\n Power Plant',\n",
       " 'Plant Name',\n",
       " 'Operator Name',\n",
       " 'Operator Id',\n",
       " 'Plant State',\n",
       " 'Census Region',\n",
       " 'NERC Region',\n",
       " 'NAICS Code',\n",
       " 'Sector Number',\n",
       " 'Sector Name',\n",
       " 'Boiler Id',\n",
       " 'Reported\\nPrime Mover',\n",
       " 'Reported\\nFuel Type Code',\n",
       " 'Respondent\\nFrequency',\n",
       " 'Physical Unit Label',\n",
       " 'Quantity Of Fuel Consumed\\nJanuary',\n",
       " 'Quantity Of Fuel Consumed\\nFebruary',\n",
       " 'Quantity Of Fuel Consumed\\nMarch',\n",
       " 'Quantity Of Fuel Consumed\\nApril',\n",
       " 'Quantity Of Fuel Consumed\\nMay',\n",
       " 'Quantity Of Fuel Consumed\\nJune',\n",
       " 'Quantity Of Fuel Consumed\\nJuly',\n",
       " 'Quantity Of Fuel Consumed\\nAugust',\n",
       " 'Quantity Of Fuel Consumed\\nSeptember',\n",
       " 'Quantity Of Fuel Consumed\\nOctober',\n",
       " 'Quantity Of Fuel Consumed\\nNovember',\n",
       " 'Quantity Of Fuel Consumed\\nDecember',\n",
       " 'MMbtu Per Unit\\nJanuary',\n",
       " 'MMbtu Per Unit\\nFebruary',\n",
       " 'MMbtu Per Unit\\nMarch',\n",
       " 'MMbtu Per Unit\\nApril',\n",
       " 'MMbtu Per Unit\\nMay',\n",
       " 'MMbtu Per Unit\\nJune',\n",
       " 'MMbtu Per Unit\\nJuly',\n",
       " 'MMbtu Per Unit\\nAugust',\n",
       " 'MMbtu Per Unit\\nSeptember',\n",
       " 'MMbtu Per Unit\\nOctober',\n",
       " 'MMbtu Per Unit\\nNovember',\n",
       " 'MMbtu Per Unit\\nDecember',\n",
       " 'Sulfur Content\\nJanuary',\n",
       " 'Sulfur Content\\nFebruary',\n",
       " 'Sulfur Content\\nMarch',\n",
       " 'Sulfur Content\\nApril',\n",
       " 'Sulfur Content\\nMay',\n",
       " 'Sulfur Content\\nJune',\n",
       " 'Sulfur Content\\nJuly',\n",
       " 'Sulfur Content\\nAugust',\n",
       " 'Sulfur Content\\nSeptember',\n",
       " 'Sulfur Content\\nOctober',\n",
       " 'Sulfur Content\\nNovember',\n",
       " 'Sulfur Content\\nDecember',\n",
       " 'Ash Content\\nJanuary',\n",
       " 'Ash Content\\nFebruary',\n",
       " 'Ash Content\\nMarch',\n",
       " 'Ash Content\\nApril',\n",
       " 'Ash Content\\nMay',\n",
       " 'Ash Content\\nJune',\n",
       " 'Ash Content\\nJuly',\n",
       " 'Ash Content\\nAugust',\n",
       " 'Ash Content\\nSeptember',\n",
       " 'Ash Content\\nOctober',\n",
       " 'Ash Content\\nNovember',\n",
       " 'Ash Content\\nDecember',\n",
       " 'Total Fuel Consumption\\nQuantity',\n",
       " 'Balancing\\nAuthority Code',\n",
       " 'YEAR']"
      ]
     },
     "execution_count": 19,
     "metadata": {},
     "output_type": "execute_result"
    }
   ],
   "source": [
    "list(df.iloc[4])"
   ]
  },
  {
   "cell_type": "code",
   "execution_count": 22,
   "metadata": {},
   "outputs": [
    {
     "data": {
      "text/plain": [
       "97"
      ]
     },
     "execution_count": 22,
     "metadata": {},
     "output_type": "execute_result"
    }
   ],
   "source": [
    "len(excel_file_settings.sheet_0_columns)"
   ]
  },
  {
   "cell_type": "code",
   "execution_count": 17,
   "metadata": {},
   "outputs": [
    {
     "data": {
      "text/plain": [
       "4"
      ]
     },
     "execution_count": 17,
     "metadata": {},
     "output_type": "execute_result"
    }
   ],
   "source": [
    "## Use this code to locate the columne\n",
    "\n",
    "\n",
    "\n",
    "df[df.apply(lambda row: row.tolist()[0] == 'Plant Id', axis=1)].index[0]\n",
    "\n",
    "\n",
    "# fix the data schema"
   ]
  },
  {
   "cell_type": "code",
   "execution_count": 19,
   "metadata": {},
   "outputs": [
    {
     "data": {
      "text/plain": [
       "'U.S. Department of Energy, The Energy Information Administration (EIA)'"
      ]
     },
     "execution_count": 19,
     "metadata": {},
     "output_type": "execute_result"
    }
   ],
   "source": [
    "df.columns[0]"
   ]
  },
  {
   "cell_type": "code",
   "execution_count": 1,
   "metadata": {},
   "outputs": [
    {
     "name": "stdout",
     "output_type": "stream",
     "text": [
      "True\n"
     ]
    }
   ],
   "source": [
    "import pandas as pd\n",
    "import excel_file_settings\n",
    "\n",
    "year = 14\n",
    "\n",
    "sheet_name = pd.ExcelFile(f\"f923_20{year}/EIA923_Schedules_2_3_4_5_M_12_20{year}_Final_Revision.xlsx\").sheet_names\n",
    "\n",
    "df= pd.read_excel(f\"f923_20{year}/EIA923_Schedules_2_3_4_5_M_12_20{year}_Final_Revision.xlsx\", sheet_name=sheet_name[9])\n",
    "\n",
    "# column_row_index = int(df[df.apply(lambda row: row.tolist()[0] == df.columns[0], axis=1)].index[0])\n",
    "\n",
    "check =  all(item in list(df.iloc[3]) for item in excel_file_settings.sheet_11_columns)\n",
    "\n",
    "print(check)\n",
    "\n",
    "\n",
    "### I ended on sheet 8 (0 indexing), sheet_column 9\n"
   ]
  },
  {
   "cell_type": "code",
   "execution_count": 4,
   "metadata": {},
   "outputs": [
    {
     "data": {
      "text/plain": [
       "3"
      ]
     },
     "execution_count": 4,
     "metadata": {},
     "output_type": "execute_result"
    }
   ],
   "source": [
    "column_row_index = int(df[df.apply(lambda row: row.tolist()[0] == excel_file_settings.sheet_11_columns[0], axis=1)].index[0])\n",
    "column_row_index"
   ]
  },
  {
   "cell_type": "code",
   "execution_count": 5,
   "metadata": {},
   "outputs": [],
   "source": [
    "df.columns = df.iloc[column_row_index]"
   ]
  },
  {
   "cell_type": "code",
   "execution_count": 6,
   "metadata": {},
   "outputs": [
    {
     "data": {
      "text/html": [
       "<div>\n",
       "<style scoped>\n",
       "    .dataframe tbody tr th:only-of-type {\n",
       "        vertical-align: middle;\n",
       "    }\n",
       "\n",
       "    .dataframe tbody tr th {\n",
       "        vertical-align: top;\n",
       "    }\n",
       "\n",
       "    .dataframe thead th {\n",
       "        text-align: right;\n",
       "    }\n",
       "</style>\n",
       "<table border=\"1\" class=\"dataframe\">\n",
       "  <thead>\n",
       "    <tr style=\"text-align: right;\">\n",
       "      <th>3</th>\n",
       "      <th>YEAR</th>\n",
       "      <th>Plant Id</th>\n",
       "      <th>Plant State</th>\n",
       "      <th>Sector Number</th>\n",
       "      <th>NAICS Code</th>\n",
       "      <th>Plant Name</th>\n",
       "      <th>Combined Heat And\\nPower Status</th>\n",
       "      <th>Reporting\\nFrequency</th>\n",
       "    </tr>\n",
       "  </thead>\n",
       "  <tbody>\n",
       "    <tr>\n",
       "      <th>0</th>\n",
       "      <td>EIA-923 Electric Power Plants Represented in t...</td>\n",
       "      <td>NaN</td>\n",
       "      <td>NaN</td>\n",
       "      <td>NaN</td>\n",
       "      <td>NaN</td>\n",
       "      <td>NaN</td>\n",
       "      <td>NaN</td>\n",
       "      <td>NaN</td>\n",
       "    </tr>\n",
       "    <tr>\n",
       "      <th>1</th>\n",
       "      <td>Sources: EIA-923 and EIA-860 Reports</td>\n",
       "      <td>NaN</td>\n",
       "      <td>NaN</td>\n",
       "      <td>NaN</td>\n",
       "      <td>NaN</td>\n",
       "      <td>NaN</td>\n",
       "      <td>NaN</td>\n",
       "      <td>NaN</td>\n",
       "    </tr>\n",
       "    <tr>\n",
       "      <th>2</th>\n",
       "      <td>NaN</td>\n",
       "      <td>NaN</td>\n",
       "      <td>NaN</td>\n",
       "      <td>NaN</td>\n",
       "      <td>NaN</td>\n",
       "      <td>NaN</td>\n",
       "      <td>NaN</td>\n",
       "      <td>NaN</td>\n",
       "    </tr>\n",
       "    <tr>\n",
       "      <th>3</th>\n",
       "      <td>YEAR</td>\n",
       "      <td>Plant Id</td>\n",
       "      <td>Plant State</td>\n",
       "      <td>Sector Number</td>\n",
       "      <td>NAICS Code</td>\n",
       "      <td>Plant Name</td>\n",
       "      <td>Combined Heat And\\nPower Status</td>\n",
       "      <td>Reporting\\nFrequency</td>\n",
       "    </tr>\n",
       "    <tr>\n",
       "      <th>4</th>\n",
       "      <td>2014</td>\n",
       "      <td>2</td>\n",
       "      <td>AL</td>\n",
       "      <td>1</td>\n",
       "      <td>22</td>\n",
       "      <td>Bankhead Dam</td>\n",
       "      <td>N</td>\n",
       "      <td>A</td>\n",
       "    </tr>\n",
       "  </tbody>\n",
       "</table>\n",
       "</div>"
      ],
      "text/plain": [
       "3                                               YEAR  Plant Id  Plant State  \\\n",
       "0  EIA-923 Electric Power Plants Represented in t...       NaN          NaN   \n",
       "1               Sources: EIA-923 and EIA-860 Reports       NaN          NaN   \n",
       "2                                                NaN       NaN          NaN   \n",
       "3                                               YEAR  Plant Id  Plant State   \n",
       "4                                               2014         2           AL   \n",
       "\n",
       "3  Sector Number  NAICS Code    Plant Name  Combined Heat And\\nPower Status  \\\n",
       "0            NaN         NaN           NaN                              NaN   \n",
       "1            NaN         NaN           NaN                              NaN   \n",
       "2            NaN         NaN           NaN                              NaN   \n",
       "3  Sector Number  NAICS Code    Plant Name  Combined Heat And\\nPower Status   \n",
       "4              1          22  Bankhead Dam                                N   \n",
       "\n",
       "3  Reporting\\nFrequency  \n",
       "0                   NaN  \n",
       "1                   NaN  \n",
       "2                   NaN  \n",
       "3  Reporting\\nFrequency  \n",
       "4                     A  "
      ]
     },
     "execution_count": 6,
     "metadata": {},
     "output_type": "execute_result"
    }
   ],
   "source": [
    "df.head()"
   ]
  },
  {
   "cell_type": "code",
   "execution_count": 22,
   "metadata": {},
   "outputs": [
    {
     "data": {
      "text/plain": [
       "['Page 1 Generation and Fuel Data',\n",
       " 'Page 1 Energy Storage',\n",
       " 'Page 2 Stocks Data',\n",
       " 'Page 2 Oil Stocks Data',\n",
       " 'Page 2 Coal Stocks Data',\n",
       " 'Page 2 Petcoke Stocks Data',\n",
       " 'Page 3 Boiler Fuel Data',\n",
       " 'Page 4 Generator Data',\n",
       " 'Page 5 Fuel Receipts and Costs',\n",
       " 'Page 6 Plant Frame',\n",
       " 'Page 7 File Layout']"
      ]
     },
     "execution_count": 22,
     "metadata": {},
     "output_type": "execute_result"
    }
   ],
   "source": [
    "sheet_name"
   ]
  },
  {
   "cell_type": "code",
   "execution_count": 24,
   "metadata": {},
   "outputs": [
    {
     "name": "stdout",
     "output_type": "stream",
     "text": [
      "True\n",
      "False\n",
      "True\n",
      "True\n",
      "True\n",
      "True\n",
      "True\n",
      "True\n",
      "True\n"
     ]
    }
   ],
   "source": [
    "for item in excel_file_settings.sheet_10_columns:\n",
    "    print(item in list(df.iloc[3]))"
   ]
  },
  {
   "cell_type": "code",
   "execution_count": 4,
   "metadata": {},
   "outputs": [
    {
     "data": {
      "text/plain": [
       "['Plant Id',\n",
       " 'Combined Heat And\\nPower Plant',\n",
       " 'Nuclear Unit Id',\n",
       " 'Plant Name',\n",
       " 'Operator Name',\n",
       " 'Operator Id',\n",
       " 'Plant State',\n",
       " 'Census Region',\n",
       " 'NERC Region',\n",
       " 'NAICS Code',\n",
       " 'EIA Sector Number',\n",
       " 'Sector Name',\n",
       " 'Reported\\nPrime Mover',\n",
       " 'Reported\\nFuel Type Code',\n",
       " 'AER\\nFuel Type Code',\n",
       " 'Physical\\nUnit Label',\n",
       " 'Quantity\\nJanuary',\n",
       " 'Quantity\\nFebruary',\n",
       " 'Quantity\\nMarch',\n",
       " 'Quantity\\nApril',\n",
       " 'Quantity\\nMay',\n",
       " 'Quantity\\nJune',\n",
       " 'Quantity\\nJuly',\n",
       " 'Quantity\\nAugust',\n",
       " 'Quantity\\nSeptember',\n",
       " 'Quantity\\nOctober',\n",
       " 'Quantity\\nNovember',\n",
       " 'Quantity\\nDecember',\n",
       " 'Elec_Quantity\\nJanuary',\n",
       " 'Elec_Quantity\\nFebruary',\n",
       " 'Elec_Quantity\\nMarch',\n",
       " 'Elec_Quantity\\nApril',\n",
       " 'Elec_Quantity\\nMay',\n",
       " 'Elec_Quantity\\nJune',\n",
       " 'Elec_Quantity\\nJuly',\n",
       " 'Elec_Quantity\\nAugust',\n",
       " 'Elec_Quantity\\nSeptember',\n",
       " 'Elec_Quantity\\nOctober',\n",
       " 'Elec_Quantity\\nNovember',\n",
       " 'Elec_Quantity\\nDecember',\n",
       " 'MMBtuPer_Unit\\nJanuary',\n",
       " 'MMBtuPer_Unit\\nFebruary',\n",
       " 'MMBtuPer_Unit\\nMarch',\n",
       " 'MMBtuPer_Unit\\nApril',\n",
       " 'MMBtuPer_Unit\\nMay',\n",
       " 'MMBtuPer_Unit\\nJune',\n",
       " 'MMBtuPer_Unit\\nJuly',\n",
       " 'MMBtuPer_Unit\\nAugust',\n",
       " 'MMBtuPer_Unit\\nSeptember',\n",
       " 'MMBtuPer_Unit\\nOctober',\n",
       " 'MMBtuPer_Unit\\nNovember',\n",
       " 'MMBtuPer_Unit\\nDecember',\n",
       " 'Tot_MMBtu\\nJanuary',\n",
       " 'Tot_MMBtu\\nFebruary',\n",
       " 'Tot_MMBtu\\nMarch',\n",
       " 'Tot_MMBtu\\nApril',\n",
       " 'Tot_MMBtu\\nMay',\n",
       " 'Tot_MMBtu\\nJune',\n",
       " 'Tot_MMBtu\\nJuly',\n",
       " 'Tot_MMBtu\\nAugust',\n",
       " 'Tot_MMBtu\\nSeptember',\n",
       " 'Tot_MMBtu\\nOctober',\n",
       " 'Tot_MMBtu\\nNovember',\n",
       " 'Tot_MMBtu\\nDecember',\n",
       " 'Elec_MMBtu\\nJanuary',\n",
       " 'Elec_MMBtu\\nFebruary',\n",
       " 'Elec_MMBtu\\nMarch',\n",
       " 'Elec_MMBtu\\nApril',\n",
       " 'Elec_MMBtu\\nMay',\n",
       " 'Elec_MMBtu\\nJune',\n",
       " 'Elec_MMBtu\\nJuly',\n",
       " 'Elec_MMBtu\\nAugust',\n",
       " 'Elec_MMBtu\\nSeptember',\n",
       " 'Elec_MMBtu\\nOctober',\n",
       " 'Elec_MMBtu\\nNovember',\n",
       " 'Elec_MMBtu\\nDecember',\n",
       " 'Netgen\\nJanuary',\n",
       " 'Netgen\\nFebruary',\n",
       " 'Netgen\\nMarch',\n",
       " 'Netgen\\nApril',\n",
       " 'Netgen\\nMay',\n",
       " 'Netgen\\nJune',\n",
       " 'Netgen\\nJuly',\n",
       " 'Netgen\\nAugust',\n",
       " 'Netgen\\nSeptember',\n",
       " 'Netgen\\nOctober',\n",
       " 'Netgen\\nNovember',\n",
       " 'Netgen\\nDecember',\n",
       " 'YEAR']"
      ]
     },
     "execution_count": 4,
     "metadata": {},
     "output_type": "execute_result"
    }
   ],
   "source": [
    "excel_file_settings.sheet_1_columns"
   ]
  },
  {
   "cell_type": "code",
   "execution_count": 14,
   "metadata": {},
   "outputs": [
    {
     "data": {
      "text/plain": [
       "[]"
      ]
     },
     "execution_count": 14,
     "metadata": {},
     "output_type": "execute_result"
    }
   ],
   "source": [
    "import re\n",
    "\n",
    "test = ['Apple', 'Boy']\n"
   ]
  },
  {
   "cell_type": "code",
   "execution_count": 35,
   "metadata": {},
   "outputs": [],
   "source": [
    "from zipfile import ZipFile\n",
    "\n",
    "test  = ZipFile('f923_2014.zip').filelist\n",
    "\n",
    "\n",
    "# r = re.compile('.*EIA923_Schedules_2_3_4_5_M_12_*')\n",
    "# list(filter(r.match, test))"
   ]
  },
  {
   "cell_type": "code",
   "execution_count": 31,
   "metadata": {},
   "outputs": [
    {
     "data": {
      "text/plain": [
       "[<ZipInfo filename='EIA923_Schedule_8_Annual_Environmental_Information_2014_Final_Revision.xlsx' compress_type=deflate external_attr=0x20 file_size=3309431 compress_size=3035327>,\n",
       " <ZipInfo filename='EIA923_Schedules_2_3_4_5_M_12_2014_Final_Revision.xlsx' compress_type=deflate external_attr=0x20 file_size=18002057 compress_size=17331626>,\n",
       " <ZipInfo filename='EIA923_Schedules_6_7_NU_SourceNDisposition_2014_Final_Revision.xlsx' compress_type=deflate external_attr=0x20 file_size=596967 compress_size=584045>]"
      ]
     },
     "execution_count": 31,
     "metadata": {},
     "output_type": "execute_result"
    }
   ],
   "source": [
    "list(ZipFile('f923_2014.zip').filelist)"
   ]
  },
  {
   "cell_type": "code",
   "execution_count": null,
   "metadata": {},
   "outputs": [],
   "source": [
    "NULLIF( plant_id, '.') AS plant_id\t\t\t\n",
    "NULLIF( combined_heat_and_power_plant, '.') AS combined_heat_and_power_plant\t\t\t\n",
    "NULLIF( plant_name, '.') AS plant_name\t\t\t\n",
    "NULLIF( operator_name, '.') AS operator_name\t\t\t\n",
    "NULLIF( operator_id, '.') AS operator_id\t\t\t\n",
    "NULLIF( plant_state, '.') AS plant_state\t\t\t\n",
    "NULLIF( census_region, '.') AS census_region\t\t\t\n",
    "NULLIF( nerc_region, '.') AS nerc_region\t\t\t\n",
    "NULLIF( naics_code, '.') AS naics_code\t\t\t\n",
    "NULLIF( eia_sector_number, '.') AS eia_sector_number\t\t\t\n",
    "NULLIF( sector_name, '.') AS sector_name\t\t\t\n",
    "NULLIF( reported_prime_mover, '.') AS reported_prime_mover\t\t\t\n",
    "NULLIF( reported_fuel_type_code, '.') AS reported_fuel_type_code\t\t\t\n",
    "NULLIF( aer_fuel_type_code, '.') AS aer_fuel_type_code\t\t\t\n",
    "NULLIF( physical_unit_label, '.') AS physical_unit_label\n",
    "CAST(NULLIF( quantity_of_energy_stored, '.') AS INT) AS quantity_of_energy_stored\n",
    "CAST(NULLIF( elec_quantity, '.') AS INT) AS elec_quantity\n",
    "CAST(NULLIF( gross_gen, '.') AS INT) AS gross_gen\n",
    "CAST(NULLIF( net_gen, '.') AS INT) AS net_gen\n",
    "NULLIF( month, '.') AS month\n",
    "NULLIF( year, '.') AS year"
   ]
  }
 ],
 "metadata": {
  "kernelspec": {
   "display_name": "Python 3",
   "language": "python",
   "name": "python3"
  },
  "language_info": {
   "codemirror_mode": {
    "name": "ipython",
    "version": 3
   },
   "file_extension": ".py",
   "mimetype": "text/x-python",
   "name": "python",
   "nbconvert_exporter": "python",
   "pygments_lexer": "ipython3",
   "version": "3.10.10"
  },
  "orig_nbformat": 4
 },
 "nbformat": 4,
 "nbformat_minor": 2
}
